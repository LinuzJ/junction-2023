{
 "cells": [
  {
   "cell_type": "code",
   "execution_count": 4,
   "id": "initial_id",
   "metadata": {
    "collapsed": true,
    "ExecuteTime": {
     "end_time": "2023-11-11T10:03:49.316381400Z",
     "start_time": "2023-11-11T10:03:49.308858200Z"
    }
   },
   "outputs": [],
   "source": [
    "import json\n",
    "\n",
    "import numpy as np\n",
    "from dtaidistance import dtw\n",
    "import json"
   ]
  },
  {
   "cell_type": "code",
   "execution_count": 64,
   "outputs": [],
   "source": [
    "frames_walking = []\n",
    "frames_aerobics = []\n",
    "for i in range(0, 356):\n",
    "    with open(f'walking/{i}.json') as f:\n",
    "        frames_walking.append(json.load(f)[0])  # taking first person in the thing\n",
    "        \n",
    "for i in range(0, 125):\n",
    "    with open(f'aerobics/{i}.json') as f:\n",
    "        frames_aerobics.append(json.load(f)[0])  # only first and only person"
   ],
   "metadata": {
    "collapsed": false,
    "ExecuteTime": {
     "end_time": "2023-11-11T11:11:38.910293800Z",
     "start_time": "2023-11-11T11:11:38.823329200Z"
    }
   },
   "id": "7f70c443283878a7"
  },
  {
   "cell_type": "code",
   "execution_count": 65,
   "outputs": [],
   "source": [
    "def frames_to_movements(frames):\n",
    "    movements = [[] for i in range(0, 17)]  # all relative to upper left corner of the bounding box\n",
    "    for frame in frames:\n",
    "        for i in range(0, 17):\n",
    "            x = frame['keypoints']['x'][i]\n",
    "            if x != 0:\n",
    "                x -= frame['box']['x1']\n",
    "            \n",
    "            y = frame['keypoints']['y'][i]\n",
    "            if y != 0:\n",
    "                y -= frame['box']['y1']\n",
    "            \n",
    "            movements[i].append((x, y))\n",
    "    movements = np.asarray(movements)\n",
    "    \n",
    "    for i in range(0, 17):\n",
    "        if np.linalg.norm(movements[i, :, 0]) != 0:\n",
    "            movements[i, :, 0] = movements[i, :, 0] / np.linalg.norm(movements[i, :, 0])\n",
    "            \n",
    "        if np.linalg.norm(movements[i, :, 1]) != 0:\n",
    "            movements[i, :, 1] = movements[i, :, 1] / np.linalg.norm(movements[i, :, 1])\n",
    "    return movements"
   ],
   "metadata": {
    "collapsed": false,
    "ExecuteTime": {
     "end_time": "2023-11-11T11:11:39.069679600Z",
     "start_time": "2023-11-11T11:11:39.058113100Z"
    }
   },
   "id": "89c2c6855be8c025"
  },
  {
   "cell_type": "code",
   "execution_count": 66,
   "outputs": [],
   "source": [
    "def distance(move1, move2):\n",
    "    dists = []\n",
    "    for i in range(0, 17):\n",
    "        for j in range(0, 2):\n",
    "            dist = dtw.distance(move1[i, :, j], move2[i, :, j])\n",
    "            dists.append(dist)\n",
    "    # print(dists)\n",
    "    \n",
    "    return np.mean(dists)"
   ],
   "metadata": {
    "collapsed": false,
    "ExecuteTime": {
     "end_time": "2023-11-11T11:11:39.337862400Z",
     "start_time": "2023-11-11T11:11:39.331195200Z"
    }
   },
   "id": "18a6ca4aedbc1ddb"
  },
  {
   "cell_type": "code",
   "execution_count": 67,
   "outputs": [],
   "source": [
    "movements_walk = frames_to_movements(frames_walking)\n",
    "movements_aero = frames_to_movements(frames_aerobics)"
   ],
   "metadata": {
    "collapsed": false,
    "ExecuteTime": {
     "end_time": "2023-11-11T11:11:39.873670600Z",
     "start_time": "2023-11-11T11:11:39.859651200Z"
    }
   },
   "id": "20cf868ea1ba2911"
  },
  {
   "cell_type": "code",
   "execution_count": 70,
   "outputs": [
    {
     "data": {
      "text/plain": "0.547433341878326"
     },
     "execution_count": 70,
     "metadata": {},
     "output_type": "execute_result"
    }
   ],
   "source": [
    "# distance(movements_walk[:, :160, :], movements_walk[:, 160:, :])\n",
    "distance(movements_walk, movements_aero)"
   ],
   "metadata": {
    "collapsed": false,
    "ExecuteTime": {
     "end_time": "2023-11-11T11:12:35.198610400Z",
     "start_time": "2023-11-11T11:12:33.148961700Z"
    }
   },
   "id": "1012d986bfa4313e"
  },
  {
   "cell_type": "code",
   "execution_count": 46,
   "outputs": [
    {
     "data": {
      "text/plain": "178.0"
     },
     "execution_count": 46,
     "metadata": {},
     "output_type": "execute_result"
    }
   ],
   "source": [
    "356/2"
   ],
   "metadata": {
    "collapsed": false,
    "ExecuteTime": {
     "end_time": "2023-11-11T10:58:06.895719300Z",
     "start_time": "2023-11-11T10:58:06.878574100Z"
    }
   },
   "id": "75e0f03b95971dca"
  },
  {
   "cell_type": "code",
   "execution_count": null,
   "outputs": [],
   "source": [],
   "metadata": {
    "collapsed": false
   },
   "id": "4fa1f41c9ea443e5"
  }
 ],
 "metadata": {
  "kernelspec": {
   "display_name": "Python 3",
   "language": "python",
   "name": "python3"
  },
  "language_info": {
   "codemirror_mode": {
    "name": "ipython",
    "version": 2
   },
   "file_extension": ".py",
   "mimetype": "text/x-python",
   "name": "python",
   "nbconvert_exporter": "python",
   "pygments_lexer": "ipython2",
   "version": "2.7.6"
  }
 },
 "nbformat": 4,
 "nbformat_minor": 5
}
